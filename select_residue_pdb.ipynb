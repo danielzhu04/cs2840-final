{
 "cells": [
  {
   "cell_type": "code",
   "execution_count": 3,
   "id": "9e70934b",
   "metadata": {},
   "outputs": [
    {
     "name": "stdout",
     "output_type": "stream",
     "text": [
      "/users/wli115/data/rsingh47/wli115/cs2840-final\n"
     ]
    }
   ],
   "source": [
    "!pwd"
   ]
  },
  {
   "cell_type": "code",
   "execution_count": null,
   "id": "b292880d",
   "metadata": {},
   "outputs": [
    {
     "name": "stdout",
     "output_type": "stream",
     "text": [
      "Wrote ./data/predicted/RFdiffusion_produced/esm3_abl1b_complete_partialdiffusion_core_t5_again_0_229-515.pdb\n"
     ]
    }
   ],
   "source": [
    "from pathlib import Path\n",
    "from Bio.PDB import MMCIFParser, PDBIO, Select, PDBParser\n",
    "\n",
    "file_name = 'esm3_abl1b_complete_partialdiffusion_core_t10_again_0'\n",
    "src = f'./RFdiffusion/data/RFdiffusion_output/{file_name}.pdb'\n",
    "dest = f\"./data/predicted/RFdiffusion_produced/{file_name}_229-515.pdb\"\n",
    "\n",
    "parser = PDBParser(QUIET=True)\n",
    "structure = parser.get_structure(\"esm3\", src)\n",
    "\n",
    "class Keep229to515(Select):\n",
    "    def accept_residue(self, residue):\n",
    "        hetflag, resseq, icode = residue.id\n",
    "        return hetflag == \" \" and 229 <= resseq <= 515\n",
    "\n",
    "io = PDBIO()\n",
    "io.set_structure(structure)\n",
    "io.save(dest, select=Keep229to515())\n",
    "print(f\"Wrote {dest}\")\n"
   ]
  },
  {
   "cell_type": "code",
   "execution_count": null,
   "id": "2ee1185d",
   "metadata": {},
   "outputs": [],
   "source": []
  }
 ],
 "metadata": {
  "kernelspec": {
   "display_name": "Python 3 (ipykernel)",
   "language": "python",
   "name": "python3"
  },
  "language_info": {
   "codemirror_mode": {
    "name": "ipython",
    "version": 3
   },
   "file_extension": ".py",
   "mimetype": "text/x-python",
   "name": "python",
   "nbconvert_exporter": "python",
   "pygments_lexer": "ipython3",
   "version": "3.9.16"
  }
 },
 "nbformat": 4,
 "nbformat_minor": 5
}
