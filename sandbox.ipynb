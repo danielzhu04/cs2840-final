{
 "cells": [
  {
   "cell_type": "code",
   "execution_count": 1,
   "id": "2b72c49b",
   "metadata": {},
   "outputs": [],
   "source": [
    "import torch"
   ]
  },
  {
   "cell_type": "code",
   "execution_count": 4,
   "id": "790238f5",
   "metadata": {},
   "outputs": [
    {
     "data": {
      "text/plain": [
       "'./data/predicted/esm3_abl1b_complete_229-515.cif'"
      ]
     },
     "execution_count": 4,
     "metadata": {},
     "output_type": "execute_result"
    }
   ],
   "source": [
    "from Bio.PDB import MMCIFParser, PDBIO, Select\n",
    "from pathlib import Path\n",
    "\n",
    "# Paths\n",
    "input_path = Path('./data/predicted/esm3_abl1b_complete.cif')\n",
    "# output_path = Path('./data/predicted/esm3_abl1b_complete_229-515.cif')\n",
    "output_path = './data/predicted/esm3_abl1b_complete_229-515.cif'\n",
    "\n",
    "# Parse the mmCIF file\n",
    "parser = MMCIFParser(QUIET=True)\n",
    "structure = parser.get_structure('structure', input_path)\n",
    "\n",
    "# Define a residue-selection class\n",
    "class ResidueRangeSelect(Select):\n",
    "    def __init__(self, start, end):\n",
    "        self.start = start\n",
    "        self.end = end\n",
    "    def accept_residue(self, residue):\n",
    "        resseq = residue.get_id()[1]  # residue id tuple: (hetero flag, resseq, icode)\n",
    "        return self.start <= resseq <= self.end\n",
    "\n",
    "# Write out the selected residues to a PDB file\n",
    "io = PDBIO()\n",
    "io.set_structure(structure)\n",
    "io.save(output_path, ResidueRangeSelect(229, 515))\n",
    "\n",
    "# Return the output path so the user can download the file\n",
    "output_path\n"
   ]
  },
  {
   "cell_type": "code",
   "execution_count": 7,
   "id": "79e33bc1",
   "metadata": {},
   "outputs": [
    {
     "name": "stdout",
     "output_type": "stream",
     "text": [
      "Wrote esm3_abl1b_229-515.pdb\n"
     ]
    }
   ],
   "source": [
    "from pathlib import Path\n",
    "from Bio.PDB import MMCIFParser, PDBIO, Select\n",
    "\n",
    "src  = \"./data/predicted/esm3_abl1b_complete.cif\"\n",
    "dest = \"esm3_abl1b_229-515.pdb\"\n",
    "\n",
    "parser = MMCIFParser(QUIET=True)\n",
    "structure = parser.get_structure(\"esm3\", src)\n",
    "\n",
    "class Keep229to515(Select):\n",
    "    def accept_residue(self, residue):\n",
    "        hetflag, resseq, icode = residue.id\n",
    "        return hetflag == \" \" and 229 <= resseq <= 515\n",
    "\n",
    "io = PDBIO()\n",
    "io.set_structure(structure)\n",
    "io.save(dest, select=Keep229to515())\n",
    "print(f\"Wrote {dest}\")\n"
   ]
  },
  {
   "cell_type": "code",
   "execution_count": null,
   "id": "b292880d",
   "metadata": {},
   "outputs": [
    {
     "name": "stdout",
     "output_type": "stream",
     "text": [
      "Wrote ./data/predicted/esm3_abl1b_complete_partialdiffusion_t10_0_229-515.pdb\n"
     ]
    }
   ],
   "source": [
    "from pathlib import Path\n",
    "from Bio.PDB import MMCIFParser, PDBIO, Select, PDBParser\n",
    "\n",
    "file_name = 'esm3_abl1b_complete_partialdiffusion_t5_0'\n",
    "src = f'./RFdiffusion/output_pdbs/{file_name}.pdb'\n",
    "dest = f\"./data/predicted/{file_name}_229-515.pdb\"\n",
    "\n",
    "parser = PDBParser(QUIET=True)\n",
    "structure = parser.get_structure(\"esm3\", src)\n",
    "\n",
    "class Keep229to515(Select):\n",
    "    def accept_residue(self, residue):\n",
    "        hetflag, resseq, icode = residue.id\n",
    "        return hetflag == \" \" and 229 <= resseq <= 515\n",
    "\n",
    "io = PDBIO()\n",
    "io.set_structure(structure)\n",
    "io.save(dest, select=Keep229to515())\n",
    "print(f\"Wrote {dest}\")\n"
   ]
  },
  {
   "cell_type": "code",
   "execution_count": null,
   "id": "2ee1185d",
   "metadata": {},
   "outputs": [],
   "source": []
  }
 ],
 "metadata": {
  "kernelspec": {
   "display_name": "Python 3 (ipykernel)",
   "language": "python",
   "name": "python3"
  },
  "language_info": {
   "codemirror_mode": {
    "name": "ipython",
    "version": 3
   },
   "file_extension": ".py",
   "mimetype": "text/x-python",
   "name": "python",
   "nbconvert_exporter": "python",
   "pygments_lexer": "ipython3",
   "version": "3.9.16"
  }
 },
 "nbformat": 4,
 "nbformat_minor": 5
}
