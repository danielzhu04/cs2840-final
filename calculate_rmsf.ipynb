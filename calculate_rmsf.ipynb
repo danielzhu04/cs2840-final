{
 "cells": [
  {
   "cell_type": "code",
   "execution_count": 2,
   "id": "2ea2f900",
   "metadata": {},
   "outputs": [
    {
     "name": "stdout",
     "output_type": "stream",
     "text": [
      "Common residues: 268\n",
      "Backbone Cα RMSD over 268 residues = 2.655 Å\n"
     ]
    }
   ],
   "source": [
    "from pathlib import Path\n",
    "from Bio.PDB import MMCIFParser, Superimposer, is_aa, PDBParser\n",
    "\n",
    "# Paths to your files\n",
    "ref_path  = Path(\"./data/ground_truth/6xr6.cif\")                # ground‑truth\n",
    "# ref_path  = Path(\"./data/ground_truth/6xrg.cif\")                # ground‑truth\n",
    "pred_path = Path(\"./data/predicted/ESM_original/esm3_abl1b_complete_229-515.pdb\")  # ESM‑3 prediction\n",
    "# pred_path = Path(\"./data/predicted/esm3_abl1b_complete_partialdiffusion_0_229-515.pdb\")  # ESM‑3 prediction\n",
    "# pred_path = Path(\"./data/predicted/esm3_abl1b_complete_partialdiffusion_t10_0_229-515.pdb\")  # ESM‑3 prediction\n",
    "\n",
    "def ca_dict(structure, chain_id=\"A\"):\n",
    "    \"\"\"\n",
    "    Return {resseq: CA_atom} for standard amino‑acid residues in *chain_id*.\n",
    "    Works for PDB or mmCIF parsed with Bio.PDB.\n",
    "    \"\"\"\n",
    "    chain = structure[0][chain_id]          # first model assumed\n",
    "    return {res.get_id()[1]: res[\"CA\"]\n",
    "            for res in chain\n",
    "            if is_aa(res, standard=True) and \"CA\" in res}\n",
    "\n",
    "parser = MMCIFParser(QUIET=True)\n",
    "PDBparser = PDBParser(QUIET=True)\n",
    "ref_struct  = parser.get_structure(\"ref\" , ref_path)\n",
    "pred_struct = PDBparser.get_structure(\"pred\", pred_path)\n",
    "\n",
    "# ---- choose the chains to compare ----\n",
    "chain_ref  = \"A\"\n",
    "chain_pred = \"A\"            # change if the prediction used a different ID\n",
    "\n",
    "ref_ca  = ca_dict(ref_struct , chain_ref )\n",
    "pred_ca = ca_dict(pred_struct, chain_pred)\n",
    "\n",
    "common_ids = sorted(ref_ca.keys() & pred_ca.keys())\n",
    "print(f\"Common residues: {len(common_ids)}\")\n",
    "\n",
    "if len(common_ids) < 3:\n",
    "    raise ValueError(\"Too few overlapping residues to superimpose.\")\n",
    "\n",
    "ref_atoms  = [ref_ca[i]  for i in common_ids]\n",
    "pred_atoms = [pred_ca[i] for i in common_ids]\n",
    "\n",
    "sup = Superimposer()\n",
    "sup.set_atoms(ref_atoms, pred_atoms)\n",
    "\n",
    "print(f\"Backbone Cα RMSD over {len(common_ids)} residues = {sup.rms:.3f} Å\")\n",
    "\n",
    "# Optional: apply the transformation to the prediction object\n",
    "# sup.apply(pred_struct.get_atoms())\n",
    "\n",
    "# Optional: save the transformed prediction to inspect in PyMOL / ChimeraX\n",
    "# from Bio.PDB import PDBIO\n",
    "# io = PDBIO()\n",
    "# io.set_structure(pred_struct)\n",
    "# io.save(\"esm3_aligned_to_6xr6.pdb\")\n",
    "\n"
   ]
  },
  {
   "cell_type": "code",
   "execution_count": null,
   "id": "94f4325a",
   "metadata": {},
   "outputs": [],
   "source": []
  }
 ],
 "metadata": {
  "kernelspec": {
   "display_name": "Python 3 (ipykernel)",
   "language": "python",
   "name": "python3"
  },
  "language_info": {
   "codemirror_mode": {
    "name": "ipython",
    "version": 3
   },
   "file_extension": ".py",
   "mimetype": "text/x-python",
   "name": "python",
   "nbconvert_exporter": "python",
   "pygments_lexer": "ipython3",
   "version": "3.9.16"
  }
 },
 "nbformat": 4,
 "nbformat_minor": 5
}
